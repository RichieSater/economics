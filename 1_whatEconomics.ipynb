{
 "cells": [
  {
   "cell_type": "markdown",
   "metadata": {},
   "source": [
    "<h4 align=\"right>RS Economics Series</h4>\n",
    "<h1>1. What Is Economics?</h1>\n"
   ]
  },
  {
   "cell_type": "markdown",
   "metadata": {},
   "source": [
    "<h4 align=\"center\">RS Economic Series</h4>\n",
    "<h1 align=\"center\">1. What Is Economics?</h1>"
   ]
  },
  {
   "cell_type": "markdown",
   "metadata": {},
   "source": [
    "<h2>Scarcity</h2>"
   ]
  },
  {
   "cell_type": "markdown",
   "metadata": {},
   "source": [
    "\"In the beginning God created the heavens and the earth.\" Or out of quantum foam fluctuations there was a big bang.  At this point, god said something to the effect of \"Let there be lots of fusion light makers in the sky.\" We can call those light makers stars and they formed galaxies and later the earth.  \n",
    "\n",
    "Sometime later humans evolved and posessed with human consciousness and human desire; they wanted things.  Indeed, they wanted more things than their environment had the resources to give them.  They, like you, had unlimited desires but limited resources.  In short, by nature of being human, they had descovered scarcity.\n",
    "\n",
    "Our lives are dominated by the fact that we want more than we can get.  <strong>Scarcity is our inability to get everything that we want.</strong>  You can't spend your night studying <i>and</i> playing video games, so you must <i>choose</i> which one to do.  You can't afford <i>both</i> a house <i>and</i> a yacht, so you must <i>choose</i> which one to buy.  Your government can not spend the same tax dollar on health care and defense, so even it must <i>choose</i>.\n",
    "\n",
    "<strong>Economics is the study of scarcity; the study of these choices and their consequences.</strong>\n",
    "\n",
    "\n",
    "\n"
   ]
  },
  {
   "cell_type": "markdown",
   "metadata": {},
   "source": [
    "<h2>Self Interest and Social Interest</h2>"
   ]
  },
  {
   "cell_type": "markdown",
   "metadata": {},
   "source": [
    "Last night, I wanted Sushi.  You could say I felt a calling.  In that moment I understood destiny and destiny was a Spciy Tuna Roll.  \n",
    "\n",
    "I live in New York City, in downtown Brooklyn where sushi is pretty easy to come by.  So, I pull out my phone and place a delivery order.  A little while later, there is a knock on my door and the delivery driver is here with my food.  I pay her, she leaves, and I sit down to eat my Sushi.\n",
    "\n",
    "As I eat the Sushi, I begin to think; That nice woman who brought me the Sushi wasn't really doing me any favors.  She was pursuing her own self interest, trading her time for a salary and service for a tip.  At the same time, I was acting in my own self interest, I ordered Sushi because I wanted Sushi, not because she needed a job.  She and I were both acting entirely in our ouwn self interest, and yet we both benefited the way we expected to from the interaction.  \n",
    "\n",
    "Yes these are the kindds of things I think about while I eat my Spicy Tuna Roll.  When I eat Confit de canard I wax philosphically in my head about Descartes ideas on dualism, it's more dull than it sounds.  But I digress.\n",
    "\n",
    "<strong>Self interest is making the choice that is best for you </strong>\n",
    "\n",
    "<strong>Social interest is making the choice that is best for society as a whole </strong>\n",
    "\n",
    "We know that, just like myself and the delivery woman, all the choices that people make about how to use their time and other resources are made in the pursuit of self-interest.  \n",
    "\n",
    "But the big question is: <i>Is it possible that, while each of us make choices in pursuit of our own self interests, we could end up doing what is best for everyone?</i>\n",
    "\n",
    "And the big answer is: <i>let's look at incentives.</i>"
   ]
  },
  {
   "cell_type": "markdown",
   "metadata": {},
   "source": [
    "<h2>Incentives</h2>"
   ]
  },
  {
   "cell_type": "markdown",
   "metadata": {},
   "source": [
    "If everyone is acting in self interest, can we control them?  Can we give them a nudge so that what they want is more aligned with the social interest?\n",
    "\n",
    "An <strong>incentive is a reward that encourages an action or a penalty that discourages one.</strong>  One of the most important incentives is taxes.  Let's say a nation realizes that population is growing and soon there will not be enough food.  People aren't becoming farmers because the money they would take home, doesn't make sense and they are acting selfishly.  What if the government lowered taxes on farming income?  This would act as an incentive, farmers would take home more money and more people would selfishly choose to be farmers.  People still get to act in their self interest, but it helps the social good.  \n",
    "\n",
    "Incentives like taxes are a way that we can change human behavior, while still allowing them to act selfishly, because we change the landscape of what is in their selfish best interest.\n",
    "\n",
    "<i>Arguably, the most important incentive is price.</i>  In a lot of situations, your choice only matters if it aligns with the choice of someone else.  For example, you may choose to buy a soda, but that only matters if someone also chooses to sell it.  For many choices, price acts as an incentive.  If the price of a soda is too high, more sodas will be offered for sale than their are people willing to buy.  \n",
    "\n",
    "You may buy a soda in self interest at two dollars, but decide at three dollars that it is no longer in your self interest to buy the soda, you don't care about the seller staying in business.  This concept of price as an incentive that controls whether or not people buy, is central to economics and we will explore it a lot more."
   ]
  },
  {
   "cell_type": "markdown",
   "metadata": {},
   "source": [
    "<h2>So What Is Economics?</h2>"
   ]
  },
  {
   "cell_type": "markdown",
   "metadata": {},
   "source": [
    "Since Economics is the focus of this series, and since we have just said quite a lot; let's take a second to redefine economics.\n",
    "\n",
    "<strong>Economics is a mathematically based science that studies the <i>choices</i> that people, firms, governments, and even civilizations make as they cope with <i>scarcity</i>.  It also studies the <i>incentives</i> that can inffluence and reconcile those choices.</strong>\n",
    "\n",
    "Need to inffluence the behavior of hundreds of millions of people? Economics studies that.  \n",
    "\n",
    "Want to create a better monetary situation either on the macro or micro level? Economics studies that.  \n",
    "\n",
    "Want to understand something as complex as the stock market?  Economics studies markets too.\n",
    "\n",
    "This is what economics is, and what we will be looking at in this series."
   ]
  },
  {
   "cell_type": "markdown",
   "metadata": {},
   "source": [
    "<h2>A Mathematical Note</h2>"
   ]
  },
  {
   "cell_type": "markdown",
   "metadata": {},
   "source": [
    "The orientation of this series is on <i>quantitative economics</i> and <i>econometrics</i>.  We will go into both of those things soon, but for now suffice it to say we are oriented towards mathematics and programming.  \n",
    "\n",
    "I am a Certified Public Accounting (CPA), who works primarily in a programming role at one of the Big 4 Firms (there are 4 big firms that sort of rule the accounting world).  Any CPA's job is heavily mathematical, especially one who programs and creates new tax technologies for a living.\n",
    "\n",
    "As such my goal is to teach this series on 3 levels\n",
    "\n",
    "<strong>Level 1 - Intuitively</strong>, this is what we did so far in this post.  It is words and definitions and hopefully entertaining stories that give you an understanding of the concept.\n",
    "\n",
    "<strong>Level 2 - Mathematically</strong>, this is equations and graphs.  If that scares you, don't let it.  I will go slow, I will simplify the models to basic algebra, not calculus, for as long as I can, which is A LONG TIME.  You can not really say you know economics, unless you can do the math.\n",
    "\n",
    "<strong>Level 3 - Progrematically</strong>.  As a programmer I learned that when you are just solving equations you can forget math, a few months later.  But if you create a program that does the math for you, you never seem to forget the math.  You have it forever.  At least that has been my experience.  Regardless, my interest in economics centers around creating computational models that look at economic problems in the computer.  I would like us to do that here as well.\n",
    "\n",
    "So for most of our concepts we will talk about it intuitively, do some math, and then turn that math into a simple computer model.  \n",
    "\n",
    "We will do all of this step by step, and you do not need any prior coding experience or to be a math genius to get started.  If programming is not your cup of tea, it is not neccessary to understand economics.  <strong>The programming is optional, the math is required.</strong>\n"
   ]
  },
  {
   "cell_type": "code",
   "execution_count": 3,
   "metadata": {},
   "outputs": [
    {
     "data": {
      "image/png": "[encoded data removed]",
      "text/plain": [
       "<Figure size 432x288 with 1 Axes>"
      ]
     },
     "metadata": {
      "needs_background": "light"
     },
     "output_type": "display_data"
    }
   ],
   "source": [
    "import matplotlib.pyplot as plt\n",
    "import numpy as np\n",
    "\n",
    "#In programming the numpy.linspace function plots evenly spaced points in a given interval\n",
    "x = np.linspace(-5,5,100)\n",
    "y = 2*x+1\n",
    "plt.plot(x, y, '-r', label='y=2x+1')\n",
    "plt.title('Graph of y=2x+1')\n",
    "plt.xlabel('x', color='#1C2833')\n",
    "plt.ylabel('y', color='#1C2833')\n",
    "plt.legend(loc='upper left')\n",
    "plt.grid()\n",
    "plt.show()"
   ]
  },
  {
   "cell_type": "code",
   "execution_count": null,
   "metadata": {},
   "outputs": [],
   "source": []
  }
 ],
 "metadata": {
  "kernelspec": {
   "display_name": "Python 3",
   "language": "python",
   "name": "python3"
  },
  "language_info": {
   "codemirror_mode": {
    "name": "ipython",
    "version": 3
   },
   "file_extension": ".py",
   "mimetype": "text/x-python",
   "name": "python",
   "nbconvert_exporter": "python",
   "pygments_lexer": "ipython3",
   "version": "3.8.3"
  }
 },
 "nbformat": 4,
 "nbformat_minor": 4
}
