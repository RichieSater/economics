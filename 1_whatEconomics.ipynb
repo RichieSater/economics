{
 "cells": [
  {
   "cell_type": "markdown",
   "metadata": {},
   "source": [
    "<h4 align=\"right>RS Economics Series</h4>\n",
    "<h1>1. What Is Economics?</h1>\n"
   ]
  },
  {
   "cell_type": "markdown",
   "metadata": {},
   "source": [
    "<h4 align=\"center\">RS Economic Series</h4>\n",
    "<h1 align=\"center\">1. What Is Economics?</h1>"
   ]
  },
  {
   "cell_type": "markdown",
   "metadata": {},
   "source": [
    "<h2>Scarcity</h2>"
   ]
  },
  {
   "cell_type": "markdown",
   "metadata": {},
   "source": [
    "\"In the beginning God created the heavens and the earth.\" Or out of quantum foam fluctuations there was a big bang.  At this point, god said something to the effect of \"Let there be lots of fusion light makers in the sky.\" We can call those light makers stars and they formed galaxies and later the earth.  \n",
    "\n",
    "Sometime later humans evolved and posessed with human consciousness and human desire; they wanted things.  Indeed, they wanted more things than their environment had the resources to give them.  They, like you, had unlimited desires but limited resources.  In short, by nature of being human, they had discovered scarcity.\n",
    "\n",
    "Our lives are dominated by the fact that we want more than we can get.  <strong>Scarcity is our inability to get everything that we want.</strong>  You can't spend your night studying <i>and</i> playing video games, so you must <i>choose</i> which one to do.  You can't afford <i>both</i> a house <i>and</i> a yacht, so you must <i>choose</i> which one to buy.  Your government can not spend the same tax dollar on health care and defense, so even it must <i>choose</i>.\n",
    "\n",
    "<strong>Economics is the study of scarcity; the study of these choices and their consequences.</strong>\n",
    "\n",
    "\n",
    "\n"
   ]
  },
  {
   "cell_type": "markdown",
   "metadata": {},
   "source": [
    "<h2>Self Interest and Social Interest</h2>"
   ]
  },
  {
   "cell_type": "markdown",
   "metadata": {},
   "source": [
    "Last night, I wanted Sushi.  You could say I felt a calling.  In that moment I understood destiny and destiny was a Spciy Tuna Roll.  \n",
    "\n",
    "I live in New York City, in downtown Brooklyn where sushi is pretty easy to come by.  So, I pull out my phone and place a delivery order.  A little while later, there is a knock on my door and the delivery driver is here with my food.  I pay her, she leaves, and I sit down to eat my Sushi.\n",
    "\n",
    "As I eat the Sushi, I begin to think; That nice woman who brought me the Sushi wasn't really doing me any favors.  She was pursuing her own self interest, trading her time for a salary and service for a tip.  At the same time, I was acting in my own self interest, I ordered Sushi because I wanted Sushi, not because she needed a job.  She and I were both acting entirely in our ouwn self interest, and yet we both benefited the way we expected to from the interaction.  \n",
    "\n",
    "Yes these are the kindds of things I think about while I eat my Spicy Tuna Roll.  When I eat Confit de canard I wax philosphically in my head about Descartes ideas on dualism, it's more dull than it sounds.  But I digress.\n",
    "\n",
    "<strong>Self interest is making the choice that is best for you </strong>\n",
    "\n",
    "<strong>Social interest is making the choice that is best for society as a whole </strong>\n",
    "\n",
    "We know that, just like myself and the delivery woman, all the choices that people make about how to use their time and other resources are made in the pursuit of self-interest.  \n",
    "\n",
    "But the big question is: <i>Is it possible that, while each of us make choices in pursuit of our own self interests, we could end up doing what is best for everyone?</i>\n",
    "\n",
    "And the big answer is: <i>let's look at incentives.</i>"
   ]
  },
  {
   "cell_type": "markdown",
   "metadata": {},
   "source": [
    "<h2>Incentives</h2>"
   ]
  },
  {
   "cell_type": "markdown",
   "metadata": {},
   "source": [
    "If everyone is acting in self interest, can we control them?  Can we give them a nudge so that what they want is more aligned with the social interest?\n",
    "\n",
    "An <strong>incentive is a reward that encourages an action or a penalty that discourages one.</strong>  One of the most important incentives is taxes.  Let's say a nation realizes that population is growing and soon there will not be enough food.  People aren't becoming farmers because the money they would take home, doesn't make sense and they are acting selfishly.  What if the government lowered taxes on farming income?  This would act as an incentive, farmers would take home more money and more people would selfishly choose to be farmers.  People still get to act in their self interest, but it helps the social good.  \n",
    "\n",
    "Incentives like taxes are a way that we can change human behavior, while still allowing them to act selfishly, because we change the landscape of what is in their selfish best interest.\n",
    "\n",
    "<i>Arguably, the most important incentive is price.</i>  In a lot of situations, your choice only matters if it aligns with the choice of someone else.  For example, you may choose to buy a soda, but that only matters if someone also chooses to sell it.  For many choices, price acts as an incentive.  If the price of a soda is too high, more sodas will be offered for sale than their are people willing to buy.  \n",
    "\n",
    "You may buy a soda in self interest at two dollars, but decide at three dollars that it is no longer in your self interest to buy the soda, you don't care about the seller staying in business.  This concept of price as an incentive that controls whether or not people buy, is central to economics and we will explore it a lot more."
   ]
  },
  {
   "cell_type": "markdown",
   "metadata": {},
   "source": [
    "<h2>So What Is Economics?</h2>"
   ]
  },
  {
   "cell_type": "markdown",
   "metadata": {},
   "source": [
    "Since Economics is the focus of this series, and since we have just said quite a lot; let's take a second to redefine economics.\n",
    "\n",
    "<strong>Economics is a mathematically based science that studies the <i>choices</i> that people, firms, governments, and even civilizations make as they cope with <i>scarcity</i>.  It also studies the <i>incentives</i> that can inffluence and reconcile those choices.</strong>\n",
    "\n",
    "Need to inffluence the behavior of hundreds of millions of people? Economics studies that.  \n",
    "\n",
    "Want to create a better monetary situation either on the macro or micro level? Economics studies that.  \n",
    "\n",
    "Want to understand something as complex as the stock market?  Economics studies markets too.\n",
    "\n",
    "This is what economics is, and what we will be looking at in this series."
   ]
  },
  {
   "cell_type": "markdown",
   "metadata": {},
   "source": [
    "<h2>A Mathematical Note</h2>"
   ]
  },
  {
   "cell_type": "markdown",
   "metadata": {},
   "source": [
    "The orientation of this series is on <i>quantitative economics</i> and <i>econometrics</i>.  We will go into both of those things soon, but for now suffice it to say we are oriented towards mathematics and programming.  \n",
    "\n",
    "I am a Certified Public Accounting (CPA), who works primarily in a programming role at one of the Big 4 Firms (there are 4 big firms that sort of rule the accounting world).  Any CPA's job is heavily mathematical, especially one who programs and creates new tax technologies for a living.\n",
    "\n",
    "As such my goal is to teach this series on 3 levels\n",
    "\n",
    "<strong>Level 1 - Intuitively</strong>, this is what we did so far in this post.  It is words and definitions and hopefully entertaining stories that give you an understanding of the concept.\n",
    "\n",
    "<strong>Level 2 - Mathematically</strong>, this is equations and graphs.  If that scares you, don't let it.  I will go slow, I will simplify the models to basic algebra, not calculus, for as long as I can, which is A LONG TIME.  You can not really say you know economics, unless you can do the math.\n",
    "\n",
    "<strong>Level 3 - Progrematically</strong>.  As a programmer I learned that when you are just solving equations you can forget math, a few months later.  But if you create a program that does the math for you, you never seem to forget the math.  You have it forever.  At least that has been my experience.  Regardless, my interest in economics centers around creating computational models that look at economic problems in the computer.  I would like us to do that here as well.\n",
    "\n",
    "So for most of our concepts we will talk about it intuitively, do some math, and then turn that math into a simple computer model.  \n",
    "\n",
    "We will do all of this step by step, and you do not need any prior coding experience or to be a math genius to get started.  If programming is not your cup of tea, it is not neccessary to understand economics.  <strong>The programming is optional, the math is required.</strong>\n"
   ]
  },
  {
   "cell_type": "markdown",
   "metadata": {},
   "source": [
    "<h2>Slope of A Line </h2>"
   ]
  },
  {
   "cell_type": "markdown",
   "metadata": {},
   "source": [
    "Look, I know that almost every person who is reading this knows how to find the slope and graph a line.  So feel free to skip this or just use it to get a feel for how I will approach the more significant mathematical concepts.  But before you skip, ask yourself if you were given a slope, would you know how to program a computer to graph a line?  If the answer is no, and you plan on doing the programming activities in this series, you may not want to skip.\n",
    "\n",
    "OK for those of you left, lets discuss slope.\n"
   ]
  },
  {
   "cell_type": "markdown",
   "metadata": {},
   "source": [
    "<img src=\"https://big4rockstar.com/wp-content/uploads/2020/10/Comp-1-0_00_00_00.png\"></img>"
   ]
  },
  {
   "cell_type": "markdown",
   "metadata": {},
   "source": [
    "Here are two pictures of <b>Troll Face</b> riding down two different hills.  \n",
    "\n",
    "Which hill will cause him to accelerate faster?  \n",
    "\n",
    "Intuitively we know it is the second hill, but why?  The second hill is steeper, it has a steeper <i>slope</i>.  That is to say, if we follow each hill across the same amount, the second hill will move down vertically farther.\n",
    "\n",
    "<b>The slope of a line is the ratio of vertical distance between two points and the horizontal distance between the same two points.</b>\n",
    "\n",
    "An easy way to remember the slope is it is the Rise over the Run \n",
    "<b>Rise / Run </b>\n",
    "\n",
    "If the slope is downhill like above the slope is <i>negative</i>  If the slope were uphill the slope would be <i>positive</i>\n",
    "\n",
    "Let's Look at how to find the slope of the line.  For this portion I am simply going to draw on graph paper and take a photo with my phone."
   ]
  },
  {
   "cell_type": "markdown",
   "metadata": {},
   "source": [
    "<img src=\"https://big4rockstar.com/wp-content/uploads/2020/10/Slope-1-scaled.jpg\"></img>"
   ]
  },
  {
   "cell_type": "markdown",
   "metadata": {},
   "source": [
    "In the above example the slope was calculated with two points that were close together.  But even if we used different points on the line that were farther apert, the slope would be the same.  We can prove this by using the slope formula like we do below."
   ]
  },
  {
   "cell_type": "markdown",
   "metadata": {},
   "source": [
    "<img src=\"https://big4rockstar.com/wp-content/uploads/2020/10/Slope-2-scaled.jpg\"></img>"
   ]
  },
  {
   "cell_type": "markdown",
   "metadata": {},
   "source": [
    "Slope is very important in economics, particularly for our discussion of modeling and supply and demnad.  One reason slope is important is that if all you know about a line is its slope, you can use its point of intersection with the y-axis to name the line.  This is called the slope intercept form.  \n",
    "\n",
    "Let's look at a graph"
   ]
  },
  {
   "cell_type": "markdown",
   "metadata": {},
   "source": [
    "<img src=\"https://big4rockstar.com/wp-content/uploads/2020/10/Axis-scaled.jpg\"></img>"
   ]
  },
  {
   "cell_type": "markdown",
   "metadata": {},
   "source": [
    "<b>To name a line we need the Slope and the y-intercept</b>\n",
    "\n",
    "We will call the Slope m because it is shorter than writing the word slope.  We will call the Y-intercept b because it is shorter than writing y-intercept.  \n",
    "\n",
    "So the formula will be\n",
    "\n",
    "y = mx + b\n",
    "\n",
    "in other words y = Slope times X + the Y-intercept\n",
    "\n",
    "(y and x will stay y and x because these numbers will change, and the slope and y intercept are constants meaning they will not change)\n",
    "\n",
    "So if we were to use y = mx + b to name the line we have been working with above.  Recall the slope of that line (m) is 2.  If we look at the picture the line crosses the y intercept at 0 so b is 0.\n",
    "\n",
    "y = mx + b becomes y = 2x + 0 which is another way of saying y = 2x\n"
   ]
  },
  {
   "cell_type": "markdown",
   "metadata": {},
   "source": [
    "<h2>Graphing a Line In Python </h2>"
   ]
  },
  {
   "cell_type": "markdown",
   "metadata": {},
   "source": [
    "For The Lesson on how to set up your environment.  Click <a href=\"https://docs.conda.io/projects/conda/en/latest/user-guide/getting-started.html\">Here</a>"
   ]
  },
  {
   "cell_type": "markdown",
   "metadata": {},
   "source": [
    "The first thing we need to do is import our packages.  To graph a line, we will be using MatPlotLib and NumPy.  "
   ]
  },
  {
   "cell_type": "code",
   "execution_count": 2,
   "metadata": {},
   "outputs": [],
   "source": [
    "import matplotlib.pyplot as plt  #Import Matplotlib and name it plt so it is easier to write going forward\n",
    "import numpy as np # Import numpy and name is np so it is easier to write going forward\n",
    "\n",
    "#This line is important for showing the plots on our local environment, this one just needs to be memorized.\n",
    "%matplotlib inline "
   ]
  },
  {
   "cell_type": "markdown",
   "metadata": {},
   "source": [
    "Let us remind ourselves what a line is.  It is an infinite number of points that each have an x and y coordinate.  We name the line based on the the relationship of the y coordinates to the x coordinates  \n",
    "\n",
    "y = mx + b\n",
    "\n",
    "<h2>Step 1 - Create Coordinates</h2>\n",
    "So if a line is really just a bunch of x coordinates and y coordinates, and we want to program a line.  We should probably start by making the coordinates.\n",
    "\n",
    "We know the y coordinates are going to follow that formula up there.  If we take an x coordinate, multiply it by the slope (m) and add the y-intercept(b) we will get the y coordinate associated with that x.\n",
    "\n",
    "<h3> X-coordinates </h3>\n",
    "So the y coordinates are going to come from the formula.  Where are the x coordinates going to come from?\n",
    "\n",
    "The answer is, we can make a y, no matter what the x we start with is.  So for any line, the x coordinates are just going to be a series of numbers, negative infinite through infinite.  Unfortunately computers can't really handle infinite, so lets constrain it a little bit.\n",
    "\n",
    "For this first line how about we use -5 to 5.  So the x coordinates will be -5,-4,-3,-2,-1,0,1,2,3,4,5\n",
    "\n",
    "We could do decimals -5,-4.9,-4.8,-4.7, etc. and it would still work.  But lets choose to just go in increments of 1.\n",
    "\n",
    "OK great we know what our x-coordinates should be, but how do we program that?\n",
    "\n",
    "One idea might be to make a list x = [-5,-4,-3,-2,etc] the problem with that is if we wanted to have 10000 points instead of 11 like we do now, then it would take you a long time to write it all out.\n",
    "\n",
    "Luckily numpy provides a function called linspace.  You pass in 3 arguments linspace(start,end,sample size) and it gives you back evenly spaced points between the start and end.  How many points depends on that third number you give it.\n",
    "\n",
    "In our case -5 to 5 is 11 numbers (5 negative, 5 positive, and 0) so if we wanted to go in increments of 1, we would make the sample size 11. The start would be -5 and the end would be 5\n"
   ]
  },
  {
   "cell_type": "code",
   "execution_count": 9,
   "metadata": {},
   "outputs": [
    {
     "data": {
      "text/plain": [
       "array([-5., -4., -3., -2., -1.,  0.,  1.,  2.,  3.,  4.,  5.])"
      ]
     },
     "execution_count": 9,
     "metadata": {},
     "output_type": "execute_result"
    }
   ],
   "source": [
    "np.linspace(-5,5,11)"
   ]
  },
  {
   "cell_type": "markdown",
   "metadata": {},
   "source": [
    "If we wanted to go by half numbers; -5, -4.5, -4, -3.5, etc.  We would make our sample size 21. "
   ]
  },
  {
   "cell_type": "code",
   "execution_count": 11,
   "metadata": {},
   "outputs": [
    {
     "data": {
      "text/plain": [
       "array([-5. , -4.5, -4. , -3.5, -3. , -2.5, -2. , -1.5, -1. , -0.5,  0. ,\n",
       "        0.5,  1. ,  1.5,  2. ,  2.5,  3. ,  3.5,  4. ,  4.5,  5. ])"
      ]
     },
     "execution_count": 11,
     "metadata": {},
     "output_type": "execute_result"
    }
   ],
   "source": [
    "np.linspace(-5,5,21)"
   ]
  },
  {
   "cell_type": "markdown",
   "metadata": {},
   "source": [
    "Lets use the first option and go by increments of 1.  However, it isn't enough to just use linspace.  We need to store this information somewhere.  How about we store it in a variable called X"
   ]
  },
  {
   "cell_type": "code",
   "execution_count": 12,
   "metadata": {},
   "outputs": [],
   "source": [
    "x = np.linspace(-5,5,11)"
   ]
  },
  {
   "cell_type": "markdown",
   "metadata": {},
   "source": [
    "Now if just type x to call it, we will see it stored our list of x-coordinates."
   ]
  },
  {
   "cell_type": "code",
   "execution_count": 13,
   "metadata": {},
   "outputs": [
    {
     "data": {
      "text/plain": [
       "array([-5., -4., -3., -2., -1.,  0.,  1.,  2.,  3.,  4.,  5.])"
      ]
     },
     "execution_count": 13,
     "metadata": {},
     "output_type": "execute_result"
    }
   ],
   "source": [
    "x"
   ]
  },
  {
   "cell_type": "markdown",
   "metadata": {},
   "source": [
    "Just like that we have our x-coordinates.  Now we need to make our y - coordinates.  Remember our formula y = mx + b.  If we want to make the same line we made above on paper, we need to use the same information for m and b.\n",
    "\n",
    "The formula of the line we drew on graph paper was y = 2x + 0  or just y = 2x\n",
    "\n",
    "so to calculate this in python, now that we have our list of values it is pretty easy.  It is just y = 2*x (The star is multiply)"
   ]
  },
  {
   "cell_type": "code",
   "execution_count": 17,
   "metadata": {},
   "outputs": [],
   "source": [
    "y = 2*x"
   ]
  },
  {
   "cell_type": "code",
   "execution_count": 16,
   "metadata": {},
   "outputs": [
    {
     "data": {
      "text/plain": [
       "array([-10.,  -8.,  -6.,  -4.,  -2.,   0.,   2.,   4.,   6.,   8.,  10.])"
      ]
     },
     "execution_count": 16,
     "metadata": {},
     "output_type": "execute_result"
    }
   ],
   "source": [
    "y"
   ]
  },
  {
   "cell_type": "markdown",
   "metadata": {},
   "source": [
    "Just like we did with x, we can just call y to see the information stored there by our formula.  And now we have both x and y coordinates.\n",
    "\n",
    "So whats next?  Well we have all of our points, so it is time to graph them.\n",
    "\n",
    "To do this we will use matplotlib\n",
    "\n",
    "But before we start coding, lets think about what makes up a graph.\n",
    "\n",
    "Well usually there is an x and a y axis, and that forms the center of the picture.  And those axis usually have little ticks on them with numbers.  So before we worry about graphing the line lets start by building that.\n",
    "\n",
    "Matplotlib has a function for generating axis lines.  In fact it has two:\n",
    "\n",
    "axhline - generates the horizontal axis\n",
    "axvline - generates the vertical axis\n",
    "\n",
    "to use them is really easy\n",
    "\n",
    "we named Matplotlib plt when we imported so all we need to do is say\n",
    "\n",
    "plt then a dot then the name of the function\n",
    "\n",
    "plt.axhline() - the parenthesis have to be there because it is a function, later we can put things in the parenthesis to change things like the color of the line\n",
    "\n",
    "So we need to do plt.axhline() and the same thing for the vertical line\n"
   ]
  },
  {
   "cell_type": "code",
   "execution_count": 21,
   "metadata": {},
   "outputs": [
    {
     "data": {
      "image/png": "[encoded data removed]",
      "text/plain": [
       "<Figure size 432x288 with 1 Axes>"
      ]
     },
     "metadata": {
      "needs_background": "light"
     },
     "output_type": "display_data"
    }
   ],
   "source": [
    "plt.axhline()\n",
    "plt.axvline()"
   ]
  },
  {
   "cell_type": "markdown",
   "metadata": {},
   "source": [
    "Great we have the axis lines, but I had wanted them centered and it looks like instead of being in the middle of the picture showing us four quadrants, the picture starts at 0,0 and only shows us one quadrant.  But our line is going to start at -5, so we need to adjust the picture.\n",
    "\n",
    "in this case we will use the xlim and ylim functions, just like we did with the line, to tell our picture where to look.\n",
    "\n",
    "xlim and ylim each take two arguments (start,end) so in our case we want the lines to start at -5 and end at 5\n",
    "\n",
    "xlim(5,5)\n",
    "\n",
    "but don't forget we have to call this off of plt\n",
    "\n",
    "plt.xlim(5,5).\n",
    "\n",
    "So lets copy what we had before and this time add our limits."
   ]
  },
  {
   "cell_type": "code",
   "execution_count": 22,
   "metadata": {},
   "outputs": [
    {
     "data": {
      "text/plain": [
       "(-5.0, 5.0)"
      ]
     },
     "execution_count": 22,
     "metadata": {},
     "output_type": "execute_result"
    },
    {
     "data": {
      "image/png": "[encoded data removed]",
      "text/plain": [
       "<Figure size 432x288 with 1 Axes>"
      ]
     },
     "metadata": {
      "needs_background": "light"
     },
     "output_type": "display_data"
    }
   ],
   "source": [
    "#Axis\n",
    "plt.axhline()\n",
    "plt.axvline()\n",
    "\n",
    "#Limits - Center the picture\n",
    "plt.xlim(-5,5)\n",
    "plt.ylim(-5,5)"
   ]
  },
  {
   "cell_type": "markdown",
   "metadata": {},
   "source": [
    "Now we are getting somewhere! Only I don't really like the ticks.  I would prefer if the x and y ticks went by one instead of two.  5 is an odd number and it looks weird that our ticks just stop at 4.\n",
    "\n",
    "So to do this we use the ticks function, which you might have guessed looks like\n",
    "\n",
    "plt.xticks and plt.yticks\n",
    "\n",
    "ticks takes a little bit of a weird argument to work.  we have to nest np.arrange inside the ticks function so it looks like\n",
    "\n",
    "plt.xticks(np.arange()) and then we have to put arguments inside the arange function (start,end,step)\n",
    "\n",
    "so in our case\n",
    "\n",
    "plt.xticks(np.arrange(-5,5,step=1)\n",
    "\n",
    "and the same is done for plt.yticks\n",
    "\n",
    "Let's add them in!"
   ]
  },
  {
   "cell_type": "code",
   "execution_count": 23,
   "metadata": {},
   "outputs": [
    {
     "data": {
      "text/plain": [
       "([<matplotlib.axis.YTick at 0x27928a9b610>,\n",
       "  <matplotlib.axis.YTick at 0x27928a9b280>,\n",
       "  <matplotlib.axis.YTick at 0x27928a99370>,\n",
       "  <matplotlib.axis.YTick at 0x27928acf700>,\n",
       "  <matplotlib.axis.YTick at 0x27928acfc10>,\n",
       "  <matplotlib.axis.YTick at 0x27928ad4160>,\n",
       "  <matplotlib.axis.YTick at 0x27928acf340>,\n",
       "  <matplotlib.axis.YTick at 0x27928aca370>,\n",
       "  <matplotlib.axis.YTick at 0x27928ac4400>,\n",
       "  <matplotlib.axis.YTick at 0x27928ad4670>],\n",
       " <a list of 10 Text major ticklabel objects>)"
      ]
     },
     "execution_count": 23,
     "metadata": {},
     "output_type": "execute_result"
    },
    {
     "data": {
      "image/png": "[encoded data removed]",
      "text/plain": [
       "<Figure size 432x288 with 1 Axes>"
      ]
     },
     "metadata": {
      "needs_background": "light"
     },
     "output_type": "display_data"
    }
   ],
   "source": [
    "#Axis\n",
    "plt.axhline()\n",
    "plt.axvline()\n",
    "\n",
    "#Limits - Center the picture\n",
    "plt.xlim(-5,5)\n",
    "plt.ylim(-5,5)\n",
    "\n",
    "#ticks\n",
    "plt.xticks(np.arange(-5, 5, step=1))\n",
    "plt.yticks(np.arange(-5, 5, step=1))"
   ]
  },
  {
   "cell_type": "markdown",
   "metadata": {},
   "source": [
    "That looks even better!  Now one thing I like to have is gridlines.  It makes the picture look more like it is on graph paper.  That is really simple to add.\n",
    "\n",
    "plt.grid()  That's it! nothing in the parenthesis."
   ]
  },
  {
   "cell_type": "code",
   "execution_count": 24,
   "metadata": {},
   "outputs": [
    {
     "data": {
      "image/png": "[encoded data removed]",
      "text/plain": [
       "<Figure size 432x288 with 1 Axes>"
      ]
     },
     "metadata": {
      "needs_background": "light"
     },
     "output_type": "display_data"
    }
   ],
   "source": [
    "#Axis\n",
    "plt.axhline()\n",
    "plt.axvline()\n",
    "\n",
    "#Limits - Center the picture\n",
    "plt.xlim(-5,5)\n",
    "plt.ylim(-5,5)\n",
    "\n",
    "#ticks\n",
    "plt.xticks(np.arange(-5, 5, step=1))\n",
    "plt.yticks(np.arange(-5, 5, step=1))\n",
    "\n",
    "#grid\n",
    "plt.grid()"
   ]
  },
  {
   "cell_type": "markdown",
   "metadata": {},
   "source": [
    "OK, we made our graph paper and our axis.  All that is left is to graph the line.\n",
    "\n",
    "To do this we use plt.plot()\n",
    "\n",
    "In its most simple form, all plt.plot() needs are an x and a y so lets do it\n",
    "\n",
    "plt.plot(x,y)"
   ]
  },
  {
   "cell_type": "code",
   "execution_count": 25,
   "metadata": {},
   "outputs": [
    {
     "data": {
      "text/plain": [
       "[<matplotlib.lines.Line2D at 0x27928ba2f70>]"
      ]
     },
     "execution_count": 25,
     "metadata": {},
     "output_type": "execute_result"
    },
    {
     "data": {
      "image/png": "[encoded data removed]",
      "text/plain": [
       "<Figure size 432x288 with 1 Axes>"
      ]
     },
     "metadata": {
      "needs_background": "light"
     },
     "output_type": "display_data"
    }
   ],
   "source": [
    "#Axis\n",
    "plt.axhline()\n",
    "plt.axvline()\n",
    "\n",
    "#Limits - Center the picture\n",
    "plt.xlim(-5,5)\n",
    "plt.ylim(-5,5)\n",
    "\n",
    "#ticks\n",
    "plt.xticks(np.arange(-5, 5, step=1))\n",
    "plt.yticks(np.arange(-5, 5, step=1))\n",
    "\n",
    "#grid\n",
    "plt.grid()\n",
    "\n",
    "#PLOT\n",
    "plt.plot(x,y)"
   ]
  },
  {
   "cell_type": "markdown",
   "metadata": {},
   "source": [
    "Look at that! We have the same line from the graph paper.  But better because we graphed it in the computer.  I know it seems like a lot of work to get here, but learning to use matplotlib this way really pays off and you get very quick at it.\n",
    "\n",
    "The nice thing about writing matplotlib out the long way is you get control over everything, for example I want to make a few changes. \n",
    "\n",
    "I want the axis lines to be black and the line we are plotting to be red.  I also want to give it a title.\n",
    "\n",
    "How would I do all that?\n",
    "\n",
    "well for the axis lines I will add an argument\n",
    "\n",
    "plt.axhline(color='black')\n",
    "\n",
    "for the plot itself I will add an argument as well plt.plot(x,y,'-r')  '-r' is a shortcut it is the same as saying color='red'\n",
    "\n",
    "For the title we use plt.title\n",
    "\n",
    "plt.title('Graph of y=2x')"
   ]
  },
  {
   "cell_type": "code",
   "execution_count": 26,
   "metadata": {},
   "outputs": [
    {
     "data": {
      "text/plain": [
       "Text(0.5, 1.0, 'Graph of y=2x')"
      ]
     },
     "execution_count": 26,
     "metadata": {},
     "output_type": "execute_result"
    },
    {
     "data": {
      "image/png": "[encoded data removed]",
      "text/plain": [
       "<Figure size 432x288 with 1 Axes>"
      ]
     },
     "metadata": {
      "needs_background": "light"
     },
     "output_type": "display_data"
    }
   ],
   "source": [
    "#Axis\n",
    "plt.axhline(color='black')\n",
    "plt.axvline(color='black')\n",
    "\n",
    "#Limits - Center the picture\n",
    "plt.xlim(-5,5)\n",
    "plt.ylim(-5,5)\n",
    "\n",
    "#ticks\n",
    "plt.xticks(np.arange(-5, 5, step=1))\n",
    "plt.yticks(np.arange(-5, 5, step=1))\n",
    "\n",
    "#grid\n",
    "plt.grid()\n",
    "\n",
    "#PLOT\n",
    "plt.plot(x,y,'-r')\n",
    "\n",
    "#title\n",
    "plt.title('Graph of y=2x')"
   ]
  },
  {
   "cell_type": "markdown",
   "metadata": {},
   "source": [
    "That looks a lot better to me.  Another thing we will do in this series is have multiple lines on one graph.  When that happens we are going to want to label our lines and have a legend.\n",
    "\n",
    "This is pretty easy in matplotlib but it happens in two places.\n",
    "\n",
    "When we actually do the plot\n",
    "\n",
    "The plt.plot(x,y) we need to add a label argument there\n",
    "\n",
    "plt.plot(x,y, label='y=2x')"
   ]
  },
  {
   "cell_type": "code",
   "execution_count": 27,
   "metadata": {},
   "outputs": [
    {
     "data": {
      "text/plain": [
       "Text(0.5, 1.0, 'Graph of y=2x')"
      ]
     },
     "execution_count": 27,
     "metadata": {},
     "output_type": "execute_result"
    },
    {
     "data": {
      "image/png": "[encoded data removed]",
      "text/plain": [
       "<Figure size 432x288 with 1 Axes>"
      ]
     },
     "metadata": {
      "needs_background": "light"
     },
     "output_type": "display_data"
    }
   ],
   "source": [
    "#Axis\n",
    "plt.axhline(color='black')\n",
    "plt.axvline(color='black')\n",
    "\n",
    "#Limits - Center the picture\n",
    "plt.xlim(-5,5)\n",
    "plt.ylim(-5,5)\n",
    "\n",
    "#ticks\n",
    "plt.xticks(np.arange(-5, 5, step=1))\n",
    "plt.yticks(np.arange(-5, 5, step=1))\n",
    "\n",
    "#grid\n",
    "plt.grid()\n",
    "\n",
    "#PLOT\n",
    "plt.plot(x,y,'-r',label='y=2x')\n",
    "\n",
    "#title\n",
    "plt.title('Graph of y=2x')"
   ]
  },
  {
   "cell_type": "markdown",
   "metadata": {},
   "source": [
    "Wait we added the label but nothing changed?  That is because the legend is turned off by default.  Even though the label was added we couldn't see it.  To fix this we use\n",
    "\n",
    "plt.legend() nothing in the parenthesis"
   ]
  },
  {
   "cell_type": "code",
   "execution_count": 29,
   "metadata": {},
   "outputs": [
    {
     "data": {
      "text/plain": [
       "<matplotlib.legend.Legend at 0x27928d611f0>"
      ]
     },
     "execution_count": 29,
     "metadata": {},
     "output_type": "execute_result"
    },
    {
     "data": {
      "image/png": "[encoded data removed]",
      "text/plain": [
       "<Figure size 432x288 with 1 Axes>"
      ]
     },
     "metadata": {
      "needs_background": "light"
     },
     "output_type": "display_data"
    }
   ],
   "source": [
    "#Axis\n",
    "plt.axhline(color='black')\n",
    "plt.axvline(color='black')\n",
    "\n",
    "#Limits - Center the picture\n",
    "plt.xlim(-5,5)\n",
    "plt.ylim(-5,5)\n",
    "\n",
    "#ticks\n",
    "plt.xticks(np.arange(-5, 5, step=1))\n",
    "plt.yticks(np.arange(-5, 5, step=1))\n",
    "\n",
    "#grid\n",
    "plt.grid()\n",
    "\n",
    "#PLOT\n",
    "plt.plot(x,y,'-r',label='y=2x')\n",
    "\n",
    "#title\n",
    "plt.title('Graph of y=2x')\n",
    "\n",
    "#Legend\n",
    "plt.legend()"
   ]
  },
  {
   "cell_type": "markdown",
   "metadata": {},
   "source": [
    "We can even pass an argument into the legend() to move it around"
   ]
  },
  {
   "cell_type": "code",
   "execution_count": 31,
   "metadata": {},
   "outputs": [
    {
     "data": {
      "text/plain": [
       "<matplotlib.legend.Legend at 0x27929b6ed90>"
      ]
     },
     "execution_count": 31,
     "metadata": {},
     "output_type": "execute_result"
    },
    {
     "data": {
      "image/png": "[encoded data removed]",
      "text/plain": [
       "<Figure size 432x288 with 1 Axes>"
      ]
     },
     "metadata": {
      "needs_background": "light"
     },
     "output_type": "display_data"
    }
   ],
   "source": [
    "#Axis\n",
    "plt.axhline(color='black')\n",
    "plt.axvline(color='black')\n",
    "\n",
    "#Limits - Center the picture\n",
    "plt.xlim(-5,5)\n",
    "plt.ylim(-5,5)\n",
    "\n",
    "#ticks\n",
    "plt.xticks(np.arange(-5, 5, step=1))\n",
    "plt.yticks(np.arange(-5, 5, step=1))\n",
    "\n",
    "#grid\n",
    "plt.grid()\n",
    "\n",
    "#PLOT\n",
    "plt.plot(x,y,'-r',label='y=2x')\n",
    "\n",
    "#title\n",
    "plt.title('Graph of y=2x')\n",
    "\n",
    "#Legend\n",
    "plt.legend(loc='upper left')"
   ]
  },
  {
   "cell_type": "markdown",
   "metadata": {},
   "source": [
    "And thats it!  We graphed a line in python.  If you made it this far and have a line on your computer I HIGHLY recommend you follow the coding portions through the rest of the series, because you have the potential to do true economic modeling and it is an extremely valuable skill.\n",
    "\n",
    "If not, don't worry!  Read back through or send me an email with your question and I will try to respond."
   ]
  },
  {
   "cell_type": "markdown",
   "metadata": {},
   "source": [
    "<h1>See you in the next one</h1>"
   ]
  },
  {
   "cell_type": "code",
   "execution_count": null,
   "metadata": {},
   "outputs": [],
   "source": []
  }
 ],
 "metadata": {
  "kernelspec": {
   "display_name": "Python 3",
   "language": "python",
   "name": "python3"
  },
  "language_info": {
   "codemirror_mode": {
    "name": "ipython",
    "version": 3
   },
   "file_extension": ".py",
   "mimetype": "text/x-python",
   "name": "python",
   "nbconvert_exporter": "python",
   "pygments_lexer": "ipython3",
   "version": "3.8.3"
  }
 },
 "nbformat": 4,
 "nbformat_minor": 4
}
