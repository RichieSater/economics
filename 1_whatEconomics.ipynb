{
 "cells": [
  {
   "cell_type": "markdown",
   "metadata": {},
   "source": [
    "<h1>What Is Economics?</h1>"
   ]
  },
  {
   "cell_type": "markdown",
   "metadata": {},
   "source": [
    "<h2>Scarcity</h2>"
   ]
  },
  {
   "cell_type": "markdown",
   "metadata": {},
   "source": [
    "\"In the beginning God created the heavens and the earth.\" Or out of quantum foam fluctuations there was a big bang.  At this point, god said something to the effect of \"Let there be lots of fusion light makers in the sky.\" We can call those light makers stars and they formed galaxies and later the earth.  \n",
    "\n",
    "Sometime later humans evolved and posessed with human consciousness and human desire; they wanted things.  Indeed, they wanted more things than their environment had the resources to give them.  They, like you, had unlimited desires but limited resources.  In short, by nature of being human, they had descovered scarcity.\n",
    "\n",
    "Our lives are dominated by the fact that we want more than we can get.  <strong>Scarcity is our inability to get everything that we want.</strong>  You can't spend your night studying <i>and</i> playing video games, so you must <i>choose</i> which one to do.  You can't afford <i>both</i> a house <i>and</i> a yacht, so you must <i>choose</i> which one to buy.  Your government can not spend the same tax dollar on health care and defense, so even it must <i>choose</i>.\n",
    "\n",
    "<strong>Economics is the study of scarcity; the study of these choices and their consequences.\n",
    "\n",
    "\n",
    "\n"
   ]
  },
  {
   "cell_type": "markdown",
   "metadata": {},
   "source": [
    "<h2>Incentives</h2>"
   ]
  },
  {
   "cell_type": "markdown",
   "metadata": {},
   "source": [
    "In a lot of situations, your choice only matters if it aligns with the choice of someone else.  For example, you may choose to buy a soda, but that only matters if someone also chooses to sell it.  For many choices"
   ]
  },
  {
   "cell_type": "markdown",
   "metadata": {},
   "source": [
    "<h2>Self Interest and Social Interest</h2>"
   ]
  },
  {
   "cell_type": "markdown",
   "metadata": {},
   "source": [
    "<h2> Labor </h2>"
   ]
  },
  {
   "cell_type": "markdown",
   "metadata": {},
   "source": [
    "Willard Legrand Bundy was born on 8 December, 1845, in Otego, New York. The oldest of three boys, Wilard was a bright kid with a knack for invention. \n",
    "\n",
    "In 1849 the family moved to Auburn, Cayuga County, New York. In Auburn Willard's father entered the flour and feed business, and then opened a restaurant. About this the time the first world war broke out and Willard's father moved into the grocery business and ran a grocery for seven years.\n",
    "\n",
    "After attending school in Auburn, Willard began work in a jewelry store learning the trade. In 1868 he was able to start a business for himself, opening his own jewelry store.  A few years later, Willard married soon having sons of his own.\n",
    "\n",
    "During all of this time Willard was constantly tinkering.  He was fascinated with clocks and with time.\n",
    "\n",
    "In 1880  Willard Bundy built a wonderful 3100-piece clock, called Thousand Year Clock, to draw and entertain customers at his jewelry store. This clock is now at the Cayuga Museum in Auburn. 1880 would also be the year Willard filed his first patent, the first of many.\n",
    "\n",
    "Of the many inventions of Willard Bundy, the most notable for our purposes, and perhaps the most reviled, was his invention of the time recorder, a mechanical device which recorded when workers clocked in and out of work.  \n",
    "\n"
   ]
  },
  {
   "cell_type": "code",
   "execution_count": null,
   "metadata": {},
   "outputs": [],
   "source": []
  }
 ],
 "metadata": {
  "kernelspec": {
   "display_name": "Python 3",
   "language": "python",
   "name": "python3"
  },
  "language_info": {
   "codemirror_mode": {
    "name": "ipython",
    "version": 3
   },
   "file_extension": ".py",
   "mimetype": "text/x-python",
   "name": "python",
   "nbconvert_exporter": "python",
   "pygments_lexer": "ipython3",
   "version": "3.8.3"
  }
 },
 "nbformat": 4,
 "nbformat_minor": 4
}
