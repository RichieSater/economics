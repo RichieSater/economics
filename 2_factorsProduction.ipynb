{
 "cells": [
  {
   "cell_type": "markdown",
   "metadata": {},
   "source": [
    "<h4 align=\"center\">RS Economic Series</h4>\n",
    "<h1 align=\"center\">2. Factors Of Production</h1>"
   ]
  },
  {
   "cell_type": "code",
   "execution_count": null,
   "metadata": {},
   "outputs": [],
   "source": []
  },
  {
   "cell_type": "code",
   "execution_count": null,
   "metadata": {},
   "outputs": [],
   "source": []
  },
  {
   "cell_type": "markdown",
   "metadata": {},
   "source": [
    "<h2> Labor </h2>"
   ]
  },
  {
   "cell_type": "markdown",
   "metadata": {},
   "source": [
    "Willard Legrand Bundy was born on 8 December, 1845, in Otego, New York. The oldest of three boys, Wilard was a bright kid with a knack for invention. \n",
    "\n",
    "In 1849 the family moved to Auburn, Cayuga County, New York where Willard's father opened a restaurant. The family stayed in Auburn even as the first world war broke out. although Willard's father moved into the grocery business which was more appropriate for the troubled times.\n",
    "\n",
    "After attending school in Auburn, Willard began work in a jewelry store learning the trade. In 1868 he was able to start a business for himself, opening his own jewelry store.  A few years later, Willard married soon having sons of his own.\n",
    "\n",
    "During all of this time Willard was constantly tinkering.  He was fascinated with clocks and with time.\n",
    "\n",
    "In 1880  Willard Bundy built a wonderful 3100-piece clock, called the <i>Thousand Year Clock</i>, to draw and entertain customers at his jewelry store. This clock is now at the Cayuga Museum in Auburn. 1880 would also be the year Willard filed his first patent, the first of many.\n",
    "\n",
    "Of the many inventions of Willard Bundy, the most notable for our purposes, and perhaps the most reviled, was his invention of the time recorder, a mechanical device which recorded when workers clocked in and out of work.  \n",
    "\n",
    "The moment Willard Bundy's invention was adopted and employees everywhere started \"clocking in\" for work, it was established what many already knew:  Employees are <i>trading</i> time for labor.  \n",
    "\n",
    "Labor is a trade, an exchange, which means there is a market for it.\n",
    "\n"
   ]
  },
  {
   "cell_type": "code",
   "execution_count": null,
   "metadata": {},
   "outputs": [],
   "source": []
  }
 ],
 "metadata": {
  "kernelspec": {
   "display_name": "Python 3",
   "language": "python",
   "name": "python3"
  },
  "language_info": {
   "codemirror_mode": {
    "name": "ipython",
    "version": 3
   },
   "file_extension": ".py",
   "mimetype": "text/x-python",
   "name": "python",
   "nbconvert_exporter": "python",
   "pygments_lexer": "ipython3",
   "version": "3.8.3"
  }
 },
 "nbformat": 4,
 "nbformat_minor": 4
}
